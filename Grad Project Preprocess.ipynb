{
 "cells": [
  {
   "cell_type": "markdown",
   "metadata": {},
   "source": [
    "# Import Libraries"
   ]
  },
  {
   "cell_type": "code",
   "execution_count": 48,
   "metadata": {},
   "outputs": [],
   "source": [
    "import pandas as pd \n",
    "import statistics\n",
    "import matplotlib.pyplot as plt\n",
    "import os \n",
    "import numpy as np\n",
    "import gurobipy as gp\n",
    "from gurobipy import GRB\n",
    "m = gp.Model('dhl model')\n",
    "import datetime"
   ]
  },
  {
   "cell_type": "markdown",
   "metadata": {},
   "source": [
    "# Import Dataset"
   ]
  },
  {
   "cell_type": "code",
   "execution_count": 2,
   "metadata": {
    "scrolled": true
   },
   "outputs": [
    {
     "data": {
      "text/html": [
       "<div>\n",
       "<style scoped>\n",
       "    .dataframe tbody tr th:only-of-type {\n",
       "        vertical-align: middle;\n",
       "    }\n",
       "\n",
       "    .dataframe tbody tr th {\n",
       "        vertical-align: top;\n",
       "    }\n",
       "\n",
       "    .dataframe thead th {\n",
       "        text-align: right;\n",
       "    }\n",
       "</style>\n",
       "<table border=\"1\" class=\"dataframe\">\n",
       "  <thead>\n",
       "    <tr style=\"text-align: right;\">\n",
       "      <th></th>\n",
       "      <th>Order</th>\n",
       "      <th>W</th>\n",
       "      <th>L</th>\n",
       "      <th>H</th>\n",
       "      <th>Packing Type</th>\n",
       "      <th>Pallets Number</th>\n",
       "      <th>Gross Weight</th>\n",
       "      <th>Referance Number For Collection</th>\n",
       "      <th>Planned Date</th>\n",
       "      <th>Comment</th>\n",
       "      <th>Estimated Arrival date</th>\n",
       "      <th>Pallets Number.1</th>\n",
       "      <th>Weight</th>\n",
       "      <th>Departure Date</th>\n",
       "      <th>Plate Number</th>\n",
       "    </tr>\n",
       "  </thead>\n",
       "  <tbody>\n",
       "    <tr>\n",
       "      <td>0</td>\n",
       "      <td>EDGBA/ Week1 /2019 / 4</td>\n",
       "      <td>120</td>\n",
       "      <td>100</td>\n",
       "      <td>60</td>\n",
       "      <td>Pallet</td>\n",
       "      <td>1.0</td>\n",
       "      <td>117.0</td>\n",
       "      <td>85288157</td>\n",
       "      <td>2019-01-03</td>\n",
       "      <td>NaN</td>\n",
       "      <td>2019-01-04</td>\n",
       "      <td>1</td>\n",
       "      <td>117</td>\n",
       "      <td>2019-01-04</td>\n",
       "      <td>34 BCP 800 / 34 ET 8505</td>\n",
       "    </tr>\n",
       "    <tr>\n",
       "      <td>1</td>\n",
       "      <td>E622D/ Week1 /2019 / 4</td>\n",
       "      <td>120</td>\n",
       "      <td>50</td>\n",
       "      <td>80</td>\n",
       "      <td>Pallet</td>\n",
       "      <td>1.0</td>\n",
       "      <td>342.0</td>\n",
       "      <td>TID 63195</td>\n",
       "      <td>2019-12-03</td>\n",
       "      <td>Not-Stackable</td>\n",
       "      <td>2019-01-07</td>\n",
       "      <td>1</td>\n",
       "      <td>471</td>\n",
       "      <td>2019-01-11</td>\n",
       "      <td>34 BAH 720 / 34 ZEJ 47</td>\n",
       "    </tr>\n",
       "    <tr>\n",
       "      <td>2</td>\n",
       "      <td>E622D/ Week1 /2019 / 4</td>\n",
       "      <td>80</td>\n",
       "      <td>50</td>\n",
       "      <td>60</td>\n",
       "      <td>Pallet</td>\n",
       "      <td>2.0</td>\n",
       "      <td>NaN</td>\n",
       "      <td>TID 63195</td>\n",
       "      <td>2019-12-03</td>\n",
       "      <td>Not-Stackable</td>\n",
       "      <td>2019-01-07</td>\n",
       "      <td>3</td>\n",
       "      <td>NaN</td>\n",
       "      <td>2019-01-11</td>\n",
       "      <td>34 BAH 720 / 34 ZEJ 47</td>\n",
       "    </tr>\n",
       "    <tr>\n",
       "      <td>3</td>\n",
       "      <td>R7GNA/ Week1 /2019 / 4</td>\n",
       "      <td>120</td>\n",
       "      <td>80</td>\n",
       "      <td>80</td>\n",
       "      <td>Pallet</td>\n",
       "      <td>2.0</td>\n",
       "      <td>790.0</td>\n",
       "      <td>ZF 2474789</td>\n",
       "      <td>2019-01-03</td>\n",
       "      <td>NaN</td>\n",
       "      <td>2019-01-07</td>\n",
       "      <td>2</td>\n",
       "      <td>798</td>\n",
       "      <td>2019-01-11</td>\n",
       "      <td>34 BAH 720 / 34 ZEJ 47</td>\n",
       "    </tr>\n",
       "    <tr>\n",
       "      <td>4</td>\n",
       "      <td>MWK9A/ Week1 /2019 / 4</td>\n",
       "      <td>60</td>\n",
       "      <td>80</td>\n",
       "      <td>45</td>\n",
       "      <td>Pallet</td>\n",
       "      <td>1.0</td>\n",
       "      <td>113.0</td>\n",
       "      <td>80040968</td>\n",
       "      <td>2019-01-03</td>\n",
       "      <td>Not-Stackable</td>\n",
       "      <td>2019-01-04</td>\n",
       "      <td>1</td>\n",
       "      <td>113</td>\n",
       "      <td>2019-01-04</td>\n",
       "      <td>34 BCP 800 / 34 ET 8505</td>\n",
       "    </tr>\n",
       "  </tbody>\n",
       "</table>\n",
       "</div>"
      ],
      "text/plain": [
       "                    Order    W    L   H Packing Type  Pallets Number  \\\n",
       "0  EDGBA/ Week1 /2019 / 4  120  100  60       Pallet             1.0   \n",
       "1  E622D/ Week1 /2019 / 4  120   50  80       Pallet             1.0   \n",
       "2  E622D/ Week1 /2019 / 4   80   50  60       Pallet             2.0   \n",
       "3  R7GNA/ Week1 /2019 / 4  120   80  80       Pallet             2.0   \n",
       "4  MWK9A/ Week1 /2019 / 4   60   80  45       Pallet             1.0   \n",
       "\n",
       "   Gross Weight Referance Number For Collection Planned Date        Comment  \\\n",
       "0         117.0                        85288157   2019-01-03            NaN   \n",
       "1         342.0                       TID 63195   2019-12-03  Not-Stackable   \n",
       "2           NaN                       TID 63195   2019-12-03  Not-Stackable   \n",
       "3         790.0                      ZF 2474789   2019-01-03            NaN   \n",
       "4         113.0                        80040968   2019-01-03  Not-Stackable   \n",
       "\n",
       "  Estimated Arrival date Pallets Number.1 Weight Departure Date  \\\n",
       "0             2019-01-04                1    117     2019-01-04   \n",
       "1             2019-01-07                1    471     2019-01-11   \n",
       "2             2019-01-07                3    NaN     2019-01-11   \n",
       "3             2019-01-07                2    798     2019-01-11   \n",
       "4             2019-01-04                1    113     2019-01-04   \n",
       "\n",
       "              Plate Number  \n",
       "0  34 BCP 800 / 34 ET 8505  \n",
       "1   34 BAH 720 / 34 ZEJ 47  \n",
       "2   34 BAH 720 / 34 ZEJ 47  \n",
       "3   34 BAH 720 / 34 ZEJ 47  \n",
       "4  34 BCP 800 / 34 ET 8505  "
      ]
     },
     "execution_count": 2,
     "metadata": {},
     "output_type": "execute_result"
    }
   ],
   "source": [
    "file_name = \"odtu1data.xlsx\"\n",
    "os.chdir(r\"C:\\\\Users\\user\\Desktop\")\n",
    "os.getcwd()\n",
    "\n",
    "file = pd.ExcelFile(file_name)\n",
    "data = file.parse(sheet_name=\"Collection Orders\")\n",
    "\n",
    "data.head()"
   ]
  },
  {
   "cell_type": "markdown",
   "metadata": {},
   "source": [
    "# Data Exploration"
   ]
  },
  {
   "cell_type": "code",
   "execution_count": 3,
   "metadata": {},
   "outputs": [
    {
     "data": {
      "text/plain": [
       "pandas.core.frame.DataFrame"
      ]
     },
     "execution_count": 3,
     "metadata": {},
     "output_type": "execute_result"
    }
   ],
   "source": [
    "type(data)"
   ]
  },
  {
   "cell_type": "code",
   "execution_count": 9,
   "metadata": {
    "scrolled": false
   },
   "outputs": [
    {
     "data": {
      "text/plain": [
       "(2448, 16)"
      ]
     },
     "execution_count": 9,
     "metadata": {},
     "output_type": "execute_result"
    }
   ],
   "source": [
    "data.shape"
   ]
  },
  {
   "cell_type": "code",
   "execution_count": 5,
   "metadata": {
    "scrolled": true
   },
   "outputs": [
    {
     "name": "stdout",
     "output_type": "stream",
     "text": [
      "<class 'pandas.core.frame.DataFrame'>\n",
      "RangeIndex: 2448 entries, 0 to 2447\n",
      "Data columns (total 15 columns):\n",
      "Order                              2448 non-null object\n",
      "W                                  2448 non-null int64\n",
      "L                                  2448 non-null int64\n",
      "H                                  2448 non-null int64\n",
      "Packing Type                       2448 non-null object\n",
      "Pallets Number                     2441 non-null float64\n",
      "Gross Weight                       2448 non-null float64\n",
      "Referance Number For Collection    1862 non-null object\n",
      "Planned Date                       2448 non-null datetime64[ns]\n",
      "Comment                            230 non-null object\n",
      "Estimated Arrival date             2448 non-null datetime64[ns]\n",
      "Pallets Number.1                   2448 non-null object\n",
      "Weight                             1613 non-null object\n",
      "Departure Date                     2448 non-null datetime64[ns]\n",
      "Plate Number                       2448 non-null object\n",
      "dtypes: datetime64[ns](3), float64(2), int64(3), object(7)\n",
      "memory usage: 287.0+ KB\n"
     ]
    }
   ],
   "source": [
    "data.info()"
   ]
  },
  {
   "cell_type": "markdown",
   "metadata": {},
   "source": [
    "# Adjusting Empty Values"
   ]
  },
  {
   "cell_type": "code",
   "execution_count": 4,
   "metadata": {},
   "outputs": [],
   "source": [
    "data['Gross Weight'].fillna(0, inplace=True)"
   ]
  },
  {
   "cell_type": "markdown",
   "metadata": {},
   "source": [
    "# Volume Calculation"
   ]
  },
  {
   "cell_type": "code",
   "execution_count": 6,
   "metadata": {},
   "outputs": [
    {
     "data": {
      "text/html": [
       "<div>\n",
       "<style scoped>\n",
       "    .dataframe tbody tr th:only-of-type {\n",
       "        vertical-align: middle;\n",
       "    }\n",
       "\n",
       "    .dataframe tbody tr th {\n",
       "        vertical-align: top;\n",
       "    }\n",
       "\n",
       "    .dataframe thead th {\n",
       "        text-align: right;\n",
       "    }\n",
       "</style>\n",
       "<table border=\"1\" class=\"dataframe\">\n",
       "  <thead>\n",
       "    <tr style=\"text-align: right;\">\n",
       "      <th></th>\n",
       "      <th>Order</th>\n",
       "      <th>W</th>\n",
       "      <th>L</th>\n",
       "      <th>H</th>\n",
       "      <th>Packing Type</th>\n",
       "      <th>Pallets Number</th>\n",
       "      <th>Gross Weight</th>\n",
       "      <th>Referance Number For Collection</th>\n",
       "      <th>Planned Date</th>\n",
       "      <th>Comment</th>\n",
       "      <th>Estimated Arrival date</th>\n",
       "      <th>Pallets Number.1</th>\n",
       "      <th>Weight</th>\n",
       "      <th>Departure Date</th>\n",
       "      <th>Plate Number</th>\n",
       "      <th>Volume</th>\n",
       "    </tr>\n",
       "  </thead>\n",
       "  <tbody>\n",
       "    <tr>\n",
       "      <td>0</td>\n",
       "      <td>EDGBA/ Week1 /2019 / 4</td>\n",
       "      <td>120</td>\n",
       "      <td>100</td>\n",
       "      <td>60</td>\n",
       "      <td>Pallet</td>\n",
       "      <td>1.0</td>\n",
       "      <td>117.0</td>\n",
       "      <td>85288157</td>\n",
       "      <td>2019-01-03</td>\n",
       "      <td>NaN</td>\n",
       "      <td>2019-01-04</td>\n",
       "      <td>1</td>\n",
       "      <td>117</td>\n",
       "      <td>2019-01-04</td>\n",
       "      <td>34 BCP 800 / 34 ET 8505</td>\n",
       "      <td>0.720</td>\n",
       "    </tr>\n",
       "    <tr>\n",
       "      <td>1</td>\n",
       "      <td>E622D/ Week1 /2019 / 4</td>\n",
       "      <td>120</td>\n",
       "      <td>50</td>\n",
       "      <td>80</td>\n",
       "      <td>Pallet</td>\n",
       "      <td>1.0</td>\n",
       "      <td>342.0</td>\n",
       "      <td>TID 63195</td>\n",
       "      <td>2019-12-03</td>\n",
       "      <td>Not-Stackable</td>\n",
       "      <td>2019-01-07</td>\n",
       "      <td>1</td>\n",
       "      <td>471</td>\n",
       "      <td>2019-01-11</td>\n",
       "      <td>34 BAH 720 / 34 ZEJ 47</td>\n",
       "      <td>0.480</td>\n",
       "    </tr>\n",
       "    <tr>\n",
       "      <td>2</td>\n",
       "      <td>E622D/ Week1 /2019 / 4</td>\n",
       "      <td>80</td>\n",
       "      <td>50</td>\n",
       "      <td>60</td>\n",
       "      <td>Pallet</td>\n",
       "      <td>2.0</td>\n",
       "      <td>0.0</td>\n",
       "      <td>TID 63195</td>\n",
       "      <td>2019-12-03</td>\n",
       "      <td>Not-Stackable</td>\n",
       "      <td>2019-01-07</td>\n",
       "      <td>3</td>\n",
       "      <td>NaN</td>\n",
       "      <td>2019-01-11</td>\n",
       "      <td>34 BAH 720 / 34 ZEJ 47</td>\n",
       "      <td>0.480</td>\n",
       "    </tr>\n",
       "    <tr>\n",
       "      <td>3</td>\n",
       "      <td>R7GNA/ Week1 /2019 / 4</td>\n",
       "      <td>120</td>\n",
       "      <td>80</td>\n",
       "      <td>80</td>\n",
       "      <td>Pallet</td>\n",
       "      <td>2.0</td>\n",
       "      <td>790.0</td>\n",
       "      <td>ZF 2474789</td>\n",
       "      <td>2019-01-03</td>\n",
       "      <td>NaN</td>\n",
       "      <td>2019-01-07</td>\n",
       "      <td>2</td>\n",
       "      <td>798</td>\n",
       "      <td>2019-01-11</td>\n",
       "      <td>34 BAH 720 / 34 ZEJ 47</td>\n",
       "      <td>1.536</td>\n",
       "    </tr>\n",
       "    <tr>\n",
       "      <td>4</td>\n",
       "      <td>MWK9A/ Week1 /2019 / 4</td>\n",
       "      <td>60</td>\n",
       "      <td>80</td>\n",
       "      <td>45</td>\n",
       "      <td>Pallet</td>\n",
       "      <td>1.0</td>\n",
       "      <td>113.0</td>\n",
       "      <td>80040968</td>\n",
       "      <td>2019-01-03</td>\n",
       "      <td>Not-Stackable</td>\n",
       "      <td>2019-01-04</td>\n",
       "      <td>1</td>\n",
       "      <td>113</td>\n",
       "      <td>2019-01-04</td>\n",
       "      <td>34 BCP 800 / 34 ET 8505</td>\n",
       "      <td>0.216</td>\n",
       "    </tr>\n",
       "  </tbody>\n",
       "</table>\n",
       "</div>"
      ],
      "text/plain": [
       "                    Order    W    L   H Packing Type  Pallets Number  \\\n",
       "0  EDGBA/ Week1 /2019 / 4  120  100  60       Pallet             1.0   \n",
       "1  E622D/ Week1 /2019 / 4  120   50  80       Pallet             1.0   \n",
       "2  E622D/ Week1 /2019 / 4   80   50  60       Pallet             2.0   \n",
       "3  R7GNA/ Week1 /2019 / 4  120   80  80       Pallet             2.0   \n",
       "4  MWK9A/ Week1 /2019 / 4   60   80  45       Pallet             1.0   \n",
       "\n",
       "   Gross Weight Referance Number For Collection Planned Date        Comment  \\\n",
       "0         117.0                        85288157   2019-01-03            NaN   \n",
       "1         342.0                       TID 63195   2019-12-03  Not-Stackable   \n",
       "2           0.0                       TID 63195   2019-12-03  Not-Stackable   \n",
       "3         790.0                      ZF 2474789   2019-01-03            NaN   \n",
       "4         113.0                        80040968   2019-01-03  Not-Stackable   \n",
       "\n",
       "  Estimated Arrival date Pallets Number.1 Weight Departure Date  \\\n",
       "0             2019-01-04                1    117     2019-01-04   \n",
       "1             2019-01-07                1    471     2019-01-11   \n",
       "2             2019-01-07                3    NaN     2019-01-11   \n",
       "3             2019-01-07                2    798     2019-01-11   \n",
       "4             2019-01-04                1    113     2019-01-04   \n",
       "\n",
       "              Plate Number  Volume  \n",
       "0  34 BCP 800 / 34 ET 8505   0.720  \n",
       "1   34 BAH 720 / 34 ZEJ 47   0.480  \n",
       "2   34 BAH 720 / 34 ZEJ 47   0.480  \n",
       "3   34 BAH 720 / 34 ZEJ 47   1.536  \n",
       "4  34 BCP 800 / 34 ET 8505   0.216  "
      ]
     },
     "execution_count": 6,
     "metadata": {},
     "output_type": "execute_result"
    }
   ],
   "source": [
    "data['Volume']= data['W']*data['L']*data['H']*data['Pallets Number']/1000000\n",
    "data.head()"
   ]
  },
  {
   "cell_type": "code",
   "execution_count": 8,
   "metadata": {
    "scrolled": true
   },
   "outputs": [
    {
     "data": {
      "text/plain": [
       "array(['Order', 'W', 'L', 'H', 'Packing Type', 'Pallets Number',\n",
       "       'Gross Weight', 'Referance Number For Collection', 'Planned Date',\n",
       "       'Comment', 'Estimated Arrival date', 'Pallets Number.1', 'Weight',\n",
       "       'Departure Date', 'Plate Number', 'Volume'], dtype=object)"
      ]
     },
     "execution_count": 8,
     "metadata": {},
     "output_type": "execute_result"
    }
   ],
   "source": [
    "data.columns.values"
   ]
  },
  {
   "cell_type": "markdown",
   "metadata": {},
   "source": [
    "# Splitting Day, Week, Year Values"
   ]
  },
  {
   "cell_type": "code",
   "execution_count": 50,
   "metadata": {},
   "outputs": [
    {
     "data": {
      "text/plain": [
       "numpy.int64"
      ]
     },
     "execution_count": 50,
     "metadata": {},
     "output_type": "execute_result"
    }
   ],
   "source": [
    "#data[['Supplier','Weeknum','Daynum']]\n",
    "a = data['Order'].str.split('/',expand=True)\n",
    "data['Supplier'] = a[0]\n",
    "data['Weeknum'] = a[1]\n",
    "data['Year'] = a[2]\n",
    "data['Daynum'] = a[3]\n",
    "b = data['Weeknum'].str.split('k',expand=True)\n",
    "data['# of week'] = b[1]\n",
    "data['# of week'] = pd.to_numeric(data['# of week'])\n",
    "data['Daynum'] = pd.to_numeric(data['Daynum'])\n",
    "data['Year'] = pd.to_numeric(data['Year'])\n",
    "type(data['Year'][4])"
   ]
  },
  {
   "cell_type": "markdown",
   "metadata": {},
   "source": [
    "# Day of Year Calculation"
   ]
  },
  {
   "cell_type": "code",
   "execution_count": 56,
   "metadata": {},
   "outputs": [],
   "source": [
    "data['Day of Year'] = (data['# of week'] -1)*7  +  data['Daynum']"
   ]
  },
  {
   "cell_type": "code",
   "execution_count": 60,
   "metadata": {
    "scrolled": true
   },
   "outputs": [
    {
     "data": {
      "text/html": [
       "<div>\n",
       "<style scoped>\n",
       "    .dataframe tbody tr th:only-of-type {\n",
       "        vertical-align: middle;\n",
       "    }\n",
       "\n",
       "    .dataframe tbody tr th {\n",
       "        vertical-align: top;\n",
       "    }\n",
       "\n",
       "    .dataframe thead th {\n",
       "        text-align: right;\n",
       "    }\n",
       "</style>\n",
       "<table border=\"1\" class=\"dataframe\">\n",
       "  <thead>\n",
       "    <tr style=\"text-align: right;\">\n",
       "      <th></th>\n",
       "      <th>Order</th>\n",
       "      <th>W</th>\n",
       "      <th>L</th>\n",
       "      <th>H</th>\n",
       "      <th>Packing Type</th>\n",
       "      <th>Pallets Number</th>\n",
       "      <th>Gross Weight</th>\n",
       "      <th>Referance Number For Collection</th>\n",
       "      <th>Planned Date</th>\n",
       "      <th>Comment</th>\n",
       "      <th>...</th>\n",
       "      <th>Weight</th>\n",
       "      <th>Departure Date</th>\n",
       "      <th>Plate Number</th>\n",
       "      <th>Volume</th>\n",
       "      <th>Supplier</th>\n",
       "      <th>Weeknum</th>\n",
       "      <th>Daynum</th>\n",
       "      <th>Year</th>\n",
       "      <th># of week</th>\n",
       "      <th>Day of Year</th>\n",
       "    </tr>\n",
       "  </thead>\n",
       "  <tbody>\n",
       "    <tr>\n",
       "      <td>0</td>\n",
       "      <td>EDGBA/ Week1 /2019 / 4</td>\n",
       "      <td>120</td>\n",
       "      <td>100</td>\n",
       "      <td>60</td>\n",
       "      <td>Pallet</td>\n",
       "      <td>1.0</td>\n",
       "      <td>117.0</td>\n",
       "      <td>85288157</td>\n",
       "      <td>2019-01-03</td>\n",
       "      <td>NaN</td>\n",
       "      <td>...</td>\n",
       "      <td>117</td>\n",
       "      <td>2019-01-04</td>\n",
       "      <td>34 BCP 800 / 34 ET 8505</td>\n",
       "      <td>0.720</td>\n",
       "      <td>EDGBA</td>\n",
       "      <td>Week1</td>\n",
       "      <td>4.0</td>\n",
       "      <td>2019</td>\n",
       "      <td>1.0</td>\n",
       "      <td>4.0</td>\n",
       "    </tr>\n",
       "    <tr>\n",
       "      <td>1</td>\n",
       "      <td>E622D/ Week1 /2019 / 4</td>\n",
       "      <td>120</td>\n",
       "      <td>50</td>\n",
       "      <td>80</td>\n",
       "      <td>Pallet</td>\n",
       "      <td>1.0</td>\n",
       "      <td>342.0</td>\n",
       "      <td>TID 63195</td>\n",
       "      <td>2019-12-03</td>\n",
       "      <td>Not-Stackable</td>\n",
       "      <td>...</td>\n",
       "      <td>471</td>\n",
       "      <td>2019-01-11</td>\n",
       "      <td>34 BAH 720 / 34 ZEJ 47</td>\n",
       "      <td>0.480</td>\n",
       "      <td>E622D</td>\n",
       "      <td>Week1</td>\n",
       "      <td>4.0</td>\n",
       "      <td>2019</td>\n",
       "      <td>1.0</td>\n",
       "      <td>4.0</td>\n",
       "    </tr>\n",
       "    <tr>\n",
       "      <td>2</td>\n",
       "      <td>E622D/ Week1 /2019 / 4</td>\n",
       "      <td>80</td>\n",
       "      <td>50</td>\n",
       "      <td>60</td>\n",
       "      <td>Pallet</td>\n",
       "      <td>2.0</td>\n",
       "      <td>0.0</td>\n",
       "      <td>TID 63195</td>\n",
       "      <td>2019-12-03</td>\n",
       "      <td>Not-Stackable</td>\n",
       "      <td>...</td>\n",
       "      <td>NaN</td>\n",
       "      <td>2019-01-11</td>\n",
       "      <td>34 BAH 720 / 34 ZEJ 47</td>\n",
       "      <td>0.480</td>\n",
       "      <td>E622D</td>\n",
       "      <td>Week1</td>\n",
       "      <td>4.0</td>\n",
       "      <td>2019</td>\n",
       "      <td>1.0</td>\n",
       "      <td>4.0</td>\n",
       "    </tr>\n",
       "    <tr>\n",
       "      <td>3</td>\n",
       "      <td>R7GNA/ Week1 /2019 / 4</td>\n",
       "      <td>120</td>\n",
       "      <td>80</td>\n",
       "      <td>80</td>\n",
       "      <td>Pallet</td>\n",
       "      <td>2.0</td>\n",
       "      <td>790.0</td>\n",
       "      <td>ZF 2474789</td>\n",
       "      <td>2019-01-03</td>\n",
       "      <td>NaN</td>\n",
       "      <td>...</td>\n",
       "      <td>798</td>\n",
       "      <td>2019-01-11</td>\n",
       "      <td>34 BAH 720 / 34 ZEJ 47</td>\n",
       "      <td>1.536</td>\n",
       "      <td>R7GNA</td>\n",
       "      <td>Week1</td>\n",
       "      <td>4.0</td>\n",
       "      <td>2019</td>\n",
       "      <td>1.0</td>\n",
       "      <td>4.0</td>\n",
       "    </tr>\n",
       "    <tr>\n",
       "      <td>4</td>\n",
       "      <td>MWK9A/ Week1 /2019 / 4</td>\n",
       "      <td>60</td>\n",
       "      <td>80</td>\n",
       "      <td>45</td>\n",
       "      <td>Pallet</td>\n",
       "      <td>1.0</td>\n",
       "      <td>113.0</td>\n",
       "      <td>80040968</td>\n",
       "      <td>2019-01-03</td>\n",
       "      <td>Not-Stackable</td>\n",
       "      <td>...</td>\n",
       "      <td>113</td>\n",
       "      <td>2019-01-04</td>\n",
       "      <td>34 BCP 800 / 34 ET 8505</td>\n",
       "      <td>0.216</td>\n",
       "      <td>MWK9A</td>\n",
       "      <td>Week1</td>\n",
       "      <td>4.0</td>\n",
       "      <td>2019</td>\n",
       "      <td>1.0</td>\n",
       "      <td>4.0</td>\n",
       "    </tr>\n",
       "  </tbody>\n",
       "</table>\n",
       "<p>5 rows × 22 columns</p>\n",
       "</div>"
      ],
      "text/plain": [
       "                    Order    W    L   H Packing Type  Pallets Number  \\\n",
       "0  EDGBA/ Week1 /2019 / 4  120  100  60       Pallet             1.0   \n",
       "1  E622D/ Week1 /2019 / 4  120   50  80       Pallet             1.0   \n",
       "2  E622D/ Week1 /2019 / 4   80   50  60       Pallet             2.0   \n",
       "3  R7GNA/ Week1 /2019 / 4  120   80  80       Pallet             2.0   \n",
       "4  MWK9A/ Week1 /2019 / 4   60   80  45       Pallet             1.0   \n",
       "\n",
       "   Gross Weight Referance Number For Collection Planned Date        Comment  \\\n",
       "0         117.0                        85288157   2019-01-03            NaN   \n",
       "1         342.0                       TID 63195   2019-12-03  Not-Stackable   \n",
       "2           0.0                       TID 63195   2019-12-03  Not-Stackable   \n",
       "3         790.0                      ZF 2474789   2019-01-03            NaN   \n",
       "4         113.0                        80040968   2019-01-03  Not-Stackable   \n",
       "\n",
       "   ... Weight Departure Date             Plate Number Volume Supplier  \\\n",
       "0  ...    117     2019-01-04  34 BCP 800 / 34 ET 8505  0.720    EDGBA   \n",
       "1  ...    471     2019-01-11   34 BAH 720 / 34 ZEJ 47  0.480    E622D   \n",
       "2  ...    NaN     2019-01-11   34 BAH 720 / 34 ZEJ 47  0.480    E622D   \n",
       "3  ...    798     2019-01-11   34 BAH 720 / 34 ZEJ 47  1.536    R7GNA   \n",
       "4  ...    113     2019-01-04  34 BCP 800 / 34 ET 8505  0.216    MWK9A   \n",
       "\n",
       "   Weeknum Daynum  Year  # of week  Day of Year  \n",
       "0   Week1     4.0  2019        1.0          4.0  \n",
       "1   Week1     4.0  2019        1.0          4.0  \n",
       "2   Week1     4.0  2019        1.0          4.0  \n",
       "3   Week1     4.0  2019        1.0          4.0  \n",
       "4   Week1     4.0  2019        1.0          4.0  \n",
       "\n",
       "[5 rows x 22 columns]"
      ]
     },
     "execution_count": 60,
     "metadata": {},
     "output_type": "execute_result"
    }
   ],
   "source": [
    "data.head()"
   ]
  },
  {
   "cell_type": "markdown",
   "metadata": {},
   "source": [
    "# Aggregating Volume, Weight & Displaying Order Date Based on Aggregate Values"
   ]
  },
  {
   "cell_type": "code",
   "execution_count": 69,
   "metadata": {},
   "outputs": [
    {
     "data": {
      "text/plain": [
       "pandas.core.frame.DataFrame"
      ]
     },
     "execution_count": 69,
     "metadata": {},
     "output_type": "execute_result"
    }
   ],
   "source": [
    "tablo = data.groupby('Order')['Gross Weight','Volume'].sum()\n",
    "type(tablo)"
   ]
  },
  {
   "cell_type": "code",
   "execution_count": 63,
   "metadata": {},
   "outputs": [],
   "source": [
    "hacim = data.groupby('Order')['Volume'].sum()"
   ]
  },
  {
   "cell_type": "code",
   "execution_count": 72,
   "metadata": {},
   "outputs": [
    {
     "data": {
      "text/plain": [
       "Order\n",
       "EDGBA/ Week1 /2019 / 4       4.0\n",
       "E622D/ Week1 /2019 / 4       4.0\n",
       "R7GNA/ Week1 /2019 / 4       4.0\n",
       "MWK9A/ Week1 /2019 / 4       4.0\n",
       "FZG8A/ Week1 /2019 / 4       4.0\n",
       "                           ...  \n",
       "GU40A/ Week51 /2019 / 2    352.0\n",
       "EDGBA/ Week51 /2019 / 2    352.0\n",
       "G944A/ Week51 /2019 / 2    352.0\n",
       "DYRZA/ Week50 /2019 / 3    346.0\n",
       "F470A/ Week51/2019 / 3     353.0\n",
       "Name: Day of Year, Length: 1607, dtype: float64"
      ]
     },
     "execution_count": 72,
     "metadata": {},
     "output_type": "execute_result"
    }
   ],
   "source": [
    "siparis_tarih = data.groupby(['Order'], sort=False)['Day of Year'].max()\n",
    "siparis_tarih"
   ]
  },
  {
   "cell_type": "code",
   "execution_count": 75,
   "metadata": {},
   "outputs": [],
   "source": [
    "tedarikci = data.groupby(['Order'], sort=False)['Supplier'].max()"
   ]
  },
  {
   "cell_type": "code",
   "execution_count": 76,
   "metadata": {},
   "outputs": [
    {
     "name": "stderr",
     "output_type": "stream",
     "text": [
      "C:\\Users\\user\\Anaconda3\\lib\\site-packages\\ipykernel_launcher.py:1: FutureWarning: Sorting because non-concatenation axis is not aligned. A future version\n",
      "of pandas will change to not sort by default.\n",
      "\n",
      "To accept the future behavior, pass 'sort=False'.\n",
      "\n",
      "To retain the current behavior and silence the warning, pass 'sort=True'.\n",
      "\n",
      "  \"\"\"Entry point for launching an IPython kernel.\n"
     ]
    },
    {
     "data": {
      "text/html": [
       "<div>\n",
       "<style scoped>\n",
       "    .dataframe tbody tr th:only-of-type {\n",
       "        vertical-align: middle;\n",
       "    }\n",
       "\n",
       "    .dataframe tbody tr th {\n",
       "        vertical-align: top;\n",
       "    }\n",
       "\n",
       "    .dataframe thead th {\n",
       "        text-align: right;\n",
       "    }\n",
       "</style>\n",
       "<table border=\"1\" class=\"dataframe\">\n",
       "  <thead>\n",
       "    <tr style=\"text-align: right;\">\n",
       "      <th></th>\n",
       "      <th>Gross Weight</th>\n",
       "      <th>Volume</th>\n",
       "      <th>Day of Year</th>\n",
       "      <th>Supplier</th>\n",
       "    </tr>\n",
       "  </thead>\n",
       "  <tbody>\n",
       "    <tr>\n",
       "      <td>A426R/ Week1 /2019 / 1</td>\n",
       "      <td>2016.0</td>\n",
       "      <td>3.60</td>\n",
       "      <td>1.0</td>\n",
       "      <td>A426R</td>\n",
       "    </tr>\n",
       "    <tr>\n",
       "      <td>A426R/ Week10 /2019 / 3</td>\n",
       "      <td>2688.0</td>\n",
       "      <td>4.80</td>\n",
       "      <td>66.0</td>\n",
       "      <td>A426R</td>\n",
       "    </tr>\n",
       "    <tr>\n",
       "      <td>A426R/ Week11 /2019 / 3</td>\n",
       "      <td>3360.0</td>\n",
       "      <td>6.00</td>\n",
       "      <td>73.0</td>\n",
       "      <td>A426R</td>\n",
       "    </tr>\n",
       "    <tr>\n",
       "      <td>A426R/ Week12 /2019 / 3</td>\n",
       "      <td>2688.0</td>\n",
       "      <td>4.80</td>\n",
       "      <td>80.0</td>\n",
       "      <td>A426R</td>\n",
       "    </tr>\n",
       "    <tr>\n",
       "      <td>A426R/ Week13 /2019 / 3</td>\n",
       "      <td>2688.0</td>\n",
       "      <td>4.80</td>\n",
       "      <td>87.0</td>\n",
       "      <td>A426R</td>\n",
       "    </tr>\n",
       "    <tr>\n",
       "      <td>...</td>\n",
       "      <td>...</td>\n",
       "      <td>...</td>\n",
       "      <td>...</td>\n",
       "      <td>...</td>\n",
       "    </tr>\n",
       "    <tr>\n",
       "      <td>U2W5B/ Week27 /2019 / 3</td>\n",
       "      <td>423.0</td>\n",
       "      <td>0.48</td>\n",
       "      <td>185.0</td>\n",
       "      <td>U2W5B</td>\n",
       "    </tr>\n",
       "    <tr>\n",
       "      <td>U2W5B/ Week30 /2019 / 2</td>\n",
       "      <td>1104.0</td>\n",
       "      <td>1.44</td>\n",
       "      <td>205.0</td>\n",
       "      <td>U2W5B</td>\n",
       "    </tr>\n",
       "    <tr>\n",
       "      <td>U2W5B/ Week37 /2019 / 5</td>\n",
       "      <td>1349.0</td>\n",
       "      <td>1.92</td>\n",
       "      <td>257.0</td>\n",
       "      <td>U2W5B</td>\n",
       "    </tr>\n",
       "    <tr>\n",
       "      <td>U2W5B/ Week6 /2019 / 1</td>\n",
       "      <td>423.0</td>\n",
       "      <td>0.48</td>\n",
       "      <td>36.0</td>\n",
       "      <td>U2W5B</td>\n",
       "    </tr>\n",
       "    <tr>\n",
       "      <td>U2W5B/ Week7 /2019 / 5</td>\n",
       "      <td>756.0</td>\n",
       "      <td>0.48</td>\n",
       "      <td>47.0</td>\n",
       "      <td>U2W5B</td>\n",
       "    </tr>\n",
       "  </tbody>\n",
       "</table>\n",
       "<p>1607 rows × 4 columns</p>\n",
       "</div>"
      ],
      "text/plain": [
       "                         Gross Weight  Volume  Day of Year Supplier\n",
       "A426R/ Week1 /2019 / 1         2016.0    3.60          1.0    A426R\n",
       "A426R/ Week10 /2019 / 3        2688.0    4.80         66.0    A426R\n",
       "A426R/ Week11 /2019 / 3        3360.0    6.00         73.0    A426R\n",
       "A426R/ Week12 /2019 / 3        2688.0    4.80         80.0    A426R\n",
       "A426R/ Week13 /2019 / 3        2688.0    4.80         87.0    A426R\n",
       "...                               ...     ...          ...      ...\n",
       "U2W5B/ Week27 /2019 / 3         423.0    0.48        185.0    U2W5B\n",
       "U2W5B/ Week30 /2019 / 2        1104.0    1.44        205.0    U2W5B\n",
       "U2W5B/ Week37 /2019 / 5        1349.0    1.92        257.0    U2W5B\n",
       "U2W5B/ Week6 /2019 / 1          423.0    0.48         36.0    U2W5B\n",
       "U2W5B/ Week7 /2019 / 5          756.0    0.48         47.0    U2W5B\n",
       "\n",
       "[1607 rows x 4 columns]"
      ]
     },
     "execution_count": 76,
     "metadata": {},
     "output_type": "execute_result"
    }
   ],
   "source": [
    "pd.concat([tablo, siparis_tarih, tedarikci], axis=1)"
   ]
  },
  {
   "cell_type": "code",
   "execution_count": 77,
   "metadata": {},
   "outputs": [],
   "source": [
    "#datetime.datetime(2019, 1, 1) + datetime.timedelta(data['Day of Year'])"
   ]
  },
  {
   "cell_type": "code",
   "execution_count": null,
   "metadata": {},
   "outputs": [],
   "source": [
    "#(np.asarray(data['Year'], dtype='datetime64[Y]')-1970)+(np.asarray(df['doy'], dtype='timedelta64[D]')-1)"
   ]
  },
  {
   "cell_type": "code",
   "execution_count": 55,
   "metadata": {},
   "outputs": [
    {
     "data": {
      "text/plain": [
       "0      2019-01-04\n",
       "1      2019-01-04\n",
       "2      2019-01-04\n",
       "3      2019-01-04\n",
       "4      2019-01-04\n",
       "          ...    \n",
       "2443   2019-01-02\n",
       "2444   2019-01-02\n",
       "2445   2019-01-02\n",
       "2446   2019-01-03\n",
       "2447   2019-01-03\n",
       "Length: 2448, dtype: datetime64[ns]"
      ]
     },
     "execution_count": 55,
     "metadata": {},
     "output_type": "execute_result"
    }
   ],
   "source": [
    "pd.to_datetime(data['Year'] * 1000 + data['Daynum'], format='%Y%j')"
   ]
  },
  {
   "cell_type": "code",
   "execution_count": null,
   "metadata": {},
   "outputs": [],
   "source": []
  }
 ],
 "metadata": {
  "kernelspec": {
   "display_name": "Python 3",
   "language": "python",
   "name": "python3"
  },
  "language_info": {
   "codemirror_mode": {
    "name": "ipython",
    "version": 3
   },
   "file_extension": ".py",
   "mimetype": "text/x-python",
   "name": "python",
   "nbconvert_exporter": "python",
   "pygments_lexer": "ipython3",
   "version": "3.7.4"
  }
 },
 "nbformat": 4,
 "nbformat_minor": 2
}
