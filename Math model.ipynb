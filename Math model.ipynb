{
 "cells": [
  {
   "cell_type": "markdown",
   "metadata": {},
   "source": [
    "# Import Libraries"
   ]
  },
  {
   "cell_type": "code",
   "execution_count": null,
   "metadata": {},
   "outputs": [],
   "source": [
    "import pandas as pd \n",
    "import statistics\n",
    "import matplotlib.pyplot as plt\n",
    "import os \n",
    "import numpy as np\n",
    "import gurobipy as gp\n",
    "from gurobipy import GRB\n",
    "m = gp.Model('dhl model')"
   ]
  },
  {
   "cell_type": "markdown",
   "metadata": {},
   "source": [
    "# Import Main Dataset"
   ]
  },
  {
   "cell_type": "code",
   "execution_count": null,
   "metadata": {},
   "outputs": [],
   "source": [
    "file_name = \"demo data.xlsx\"\n",
    "os.chdir(r\"C:\\\\Users\\user\\Desktop\")\n",
    "os.getcwd()\n",
    "\n",
    "file = pd.ExcelFile(file_name)\n",
    "DataSet = file.parse(sheet_name=\"27satir\", index_col=0)\n",
    "DataSet"
   ]
  },
  {
   "cell_type": "markdown",
   "metadata": {},
   "source": [
    "# Manipulate Supplier Matrix"
   ]
  },
  {
   "cell_type": "code",
   "execution_count": null,
   "metadata": {},
   "outputs": [],
   "source": [
    "supplier_columns = pd.get_dummies(DataSet[\"SupplierID\"]) \n",
    "supplierList= list(supplier_columns.columns)\n",
    "a = supplier_columns.to_dict(orient = 'series')"
   ]
  },
  {
   "cell_type": "markdown",
   "metadata": {},
   "source": [
    "# Parameters"
   ]
  },
  {
   "cell_type": "code",
   "execution_count": null,
   "metadata": {},
   "outputs": [],
   "source": [
    "# Parameters\n",
    "orderIDs = DataSet.index\n",
    "orderDate = DataSet[\"OrderDate\"]\n",
    "totalVolume = DataSet[\"TotalVolume-Adj\"]\n",
    "totalWeight = DataSet[\"GrossWeight\"]\n",
    "leadTime = DataSet[\"LeadTime\"]\n",
    "fixedTransportCost = 2400\n",
    "weightLimit = 22000\n",
    "volumeLimit = 91\n",
    "allowance = 9 #allowance\n",
    "timeWindow = 7   #given by Ford: xdock dispatch date - supplier order date"
   ]
  },
  {
   "cell_type": "markdown",
   "metadata": {},
   "source": [
    "# Sets"
   ]
  },
  {
   "cell_type": "code",
   "execution_count": null,
   "metadata": {},
   "outputs": [],
   "source": [
    "# Sets\n",
    "orders = [s for s in range(1,len(orderIDs)+1)]\n",
    "days = [d for d in range(1,max(orderDate) + 8)]\n",
    "trucks = [k for k in range(1,len(orders)+1)]\n",
    "smallTrucks = [m for m in range(1,len(orders) + 1)]\n",
    "suppliers = [p for p in supplierList]\n"
   ]
  },
  {
   "cell_type": "markdown",
   "metadata": {},
   "source": [
    "# Decision Variables"
   ]
  },
  {
   "cell_type": "code",
   "execution_count": null,
   "metadata": {},
   "outputs": [],
   "source": [
    "# Decision Variables\n",
    "\n",
    "x = m.addVars((orders),(days),(trucks), vtype=GRB.BINARY)  #X(s,d,k)\n",
    "\n",
    "y = m.addVars((days),(trucks), vtype=GRB.BINARY)  #Y(d,k) \n",
    "\n",
    "cd = m.addVars((orders), vtype=GRB.INTEGER)  #cd(s)\n",
    "\n",
    "v = m.addVars((orders),(days),(smallTrucks), vtype=GRB.BINARY) #v(s,d,m) 1 if the order s departed on day d by small truck m 0 otherwise  \n",
    "\n",
    "\n",
    "w = m.addVars((suppliers),(days),(smallTrucks), vtype=GRB.BINARY)  #w(p,d,m) 1 if the small truck m departed on day d from supplier p 0 otherwise  \n",
    "\n",
    "T = m.addVars((orders), vtype=GRB.INTEGER)  #T(s)\n",
    "\n",
    "B = m.addVars((orders), vtype=GRB.INTEGER)  #B(s) bekleme süresi"
   ]
  },
  {
   "cell_type": "markdown",
   "metadata": {},
   "source": [
    "# Constraints"
   ]
  },
  {
   "cell_type": "code",
   "execution_count": null,
   "metadata": {},
   "outputs": [],
   "source": [
    "# Constraint 1: 1 order 1 trucktan 1 günde 1 kez çıkar.\n",
    "\n",
    "m.addConstrs(gp.quicksum(x[s,d,k] for d in days for k in trucks) == 1 for s in orders)\n",
    "\n",
    "#Constraint 2: Orderlar supplierlardan yola çıkmak zorunda.\n",
    "\n",
    "#leavesupplier(s).. sum((d,m),v(s, d, m))  =e= 1;  \n",
    "\n",
    "m.addConstrs(gp.quicksum(v[s,d,m] for d in days for m in smallTrucks) == 1 for s in orders)\n",
    "\n",
    "#Constraint 3: xdocktan aracın çıktığı gün, supplierdan çıktığı gün + leadtime dan büyüktür.\n",
    "\n",
    "#ordercollection(s).. sum((d,k),(ord(d)*x(s,d,k))) =g=  sum( (d,m) , (ord(d)+time(s)) * v(s,d,m) ) ;     \n",
    "\n",
    "m.addConstrs(gp.quicksum(d*x[s,d,k] for d in days for k in trucks) >= gp.quicksum((d*v[s,d,m] + leadTime[s]*v[s,d,m]) for d in days for m in smallTrucks)  for s in orders)\n",
    "\n",
    "#Constraint 4: volume constraint\n",
    "\n",
    "m.addConstrs(gp.quicksum(totalVolume[s]*x[s,d,k] for s in orders) + allowance <= volumeLimit for d in days for k in trucks)\n",
    "\n",
    "#Constraint 5: weight constraint \n",
    "\n",
    "m.addConstrs(gp.quicksum(totalWeight[s]*x[s,d,k] for s in orders) <= weightLimit*y[d,k] for d in days for k in trucks)\n",
    "\n",
    "#Constraint 7: Time window 7 günlük\n",
    "\n",
    "#m.addConstrs(gp.quicksum(d*x[s,d,k] for d in days for k in trucks) <= orderDate[s] + timeWindow for s in orders)\n",
    "\n",
    "#Constraint 8: Gecikmeye izin veren, time window içeren constraint\n",
    "\n",
    "#delay(s).. T(s) =g= sum((d,k), (ord(d) * x(s,d,k))) - orderdate(s) - 7; \n",
    "\n",
    "m.addConstrs(gp.quicksum(d*x[s,d,k] for d in days for k in trucks) <= T[s] + orderDate[s] + timeWindow  for s in orders)\n",
    "m.addConstrs(T[s] >= 0  for s in orders)\n",
    "\n",
    "#Constraint 9: Collection date'in en geç tarihini bulduran equation.\n",
    "\n",
    "m.addConstrs(gp.quicksum(d*x[s,d,k] for d in days for k in trucks) - leadTime[s] == cd[s] for s in orders)\n",
    "\n",
    "#Constraint 10: Eurotruck index atama\n",
    "\n",
    "m.addConstrs(gp.quicksum(y[d,k] for d in days) >= gp.quicksum(y[d,k+1] for d in days) for k in trucks if k!=max(trucks))\n",
    "\n",
    "m.addConstrs(gp.quicksum(y[d,k] for d in days) <= 1 for k in trucks)\n",
    "\n",
    "#Constraint 11: Small truck index constraint\n",
    "\n",
    "#smalltruck1(m)..  sum((p,d),w(p,d,m)) =g= sum((p,d),w(p,d,m+1));\n",
    "#smalltruck2(m).. sum((p,d),w(p,d,m)) =l= 1;\n",
    "\n",
    "m.addConstrs(gp.quicksum(w[p,d,m] for d in days for p in suppliers) >= gp.quicksum(w[p,d,m+1] for d in days for p in suppliers) for m in smallTrucks if m != max(smallTrucks))\n",
    "m.addConstrs(gp.quicksum(w[p,d,m] for d in days for p in suppliers) <= 1 for m in smallTrucks)\n",
    "\n",
    "#Constraint 12: Supplierdan çıktığı gün orderdate'den sonra olmak zorunda.\n",
    "\n",
    "m.addConstrs(gp.quicksum(d*v[s,d,m] for d in days for m in smallTrucks) >= orderDate[s] for s in orders)\n",
    "\n",
    "##Constraint 13: Bekleme süresi bulduran constraint\n",
    "\n",
    "m.addConstrs(gp.quicksum(d*x[s,d,k] for d in days for k in trucks) - gp.quicksum(d*v[s,d,m] for d in days for m in smallTrucks) - leadTime[s] == B[s] for s in orders)\n",
    "m.addConstrs(B[s] >= 0  for s in orders)\n",
    "\n",
    "#Supplier x Order x Truck ilişkisi constraint\n",
    "\n",
    "#ordercoverage(s,d,m,p).. v(s,d,m)* a(s,p) =l= w(p,d,m);  \n",
    "\n",
    "m.addConstrs(v[s,d,m]*(a[p][s]) <= w[p,d,m]  for s in orders for d in days for m in smallTrucks for p in suppliers   if a[p][s]!=0)"
   ]
  },
  {
   "cell_type": "markdown",
   "metadata": {},
   "source": [
    "# Objective Components"
   ]
  },
  {
   "cell_type": "code",
   "execution_count": null,
   "metadata": {},
   "outputs": [],
   "source": [
    "# Objective\n",
    "\n",
    "#euro trucks\n",
    "obj11 = gp.quicksum(y[d,k] for d in days for k in trucks)\n",
    "\n",
    "#small trucks\n",
    "obj12 = gp.quicksum(w[p,d,m] for d in days for m in smallTrucks for p in suppliers)\n",
    "\n",
    "#obj1: all trucks\n",
    "obj1 = (8*obj11) + obj12\n",
    "epsilon1 =0.01\n",
    "\n",
    "#Obj2: total delay\n",
    "obj2 = gp.quicksum(T[s] for s in orders)\n",
    "\n",
    "#Obj3: latest colection\n",
    "\n",
    "obj3 = gp.quicksum(d*w[p,d,m] for d in days for m in smallTrucks for p in suppliers)\n",
    "epsilon3 = 0.00001\n",
    "\n"
   ]
  },
  {
   "cell_type": "markdown",
   "metadata": {},
   "source": [
    "# E-Contraint"
   ]
  },
  {
   "cell_type": "code",
   "execution_count": null,
   "metadata": {},
   "outputs": [],
   "source": [
    "# We first need to run without this constraint. After first run (r=1), we add this one as here.\n",
    "# Try for (r=2) and (r=3) and compare run times!\n",
    "# r=1 without delay\n",
    "# r=2 least delay\n",
    "# r=3 second least delay\n",
    "#m.addConstr(obj1 <= obj1(r)-1)\n",
    "\n",
    "\n",
    "#m.addConstr(obj1 <= 39)"
   ]
  },
  {
   "cell_type": "markdown",
   "metadata": {},
   "source": [
    "# Overall Objective Func"
   ]
  },
  {
   "cell_type": "code",
   "execution_count": null,
   "metadata": {},
   "outputs": [],
   "source": [
    "#Overall obj fnc.\n",
    "\n",
    "m.setObjective(obj1 * epsilon1  + obj2 - obj3 * epsilon3, GRB.MINIMIZE)\n",
    "m.optimize()\n"
   ]
  },
  {
   "cell_type": "code",
   "execution_count": null,
   "metadata": {},
   "outputs": [],
   "source": [
    "#Total Cost of Eurotrucks\n",
    "\n",
    "gp.quicksum(fixedTransportCost*y[d,k].x for d in days for k in trucks) "
   ]
  },
  {
   "cell_type": "code",
   "execution_count": null,
   "metadata": {},
   "outputs": [],
   "source": [
    "gp.quicksum(w[p,d,m].x for d in days for m in smallTrucks for p in suppliers) + gp.quicksum(8*y[d,k].x for d in days for k in trucks) "
   ]
  },
  {
   "cell_type": "code",
   "execution_count": null,
   "metadata": {},
   "outputs": [],
   "source": [
    "#Supplier araç sayısı.\n",
    "\n",
    "gp.quicksum(w[p,d,m].x for d in days for m in smallTrucks for p in suppliers)"
   ]
  },
  {
   "cell_type": "code",
   "execution_count": null,
   "metadata": {
    "scrolled": true
   },
   "outputs": [],
   "source": [
    "#output DecVar: w(p,d,m)\n",
    "\n",
    "#Hangi supplierdan hangi günde hangi araçta çıkar?\n",
    "\n",
    "{(key1, key2, key3): val for (key1, key2, key3), val in w.items() if val.x > 0.1}"
   ]
  },
  {
   "cell_type": "code",
   "execution_count": null,
   "metadata": {
    "scrolled": true
   },
   "outputs": [],
   "source": [
    "#Output DecVar: v(s,d,m)\n",
    "\n",
    "#Orderlar supplierlarından hangi günde hangi araçta çıkıyor?\n",
    "\n",
    "{(key1, key2, key3): val for (key1, key2, key3), val in v.items() if val.x > 0.1}"
   ]
  },
  {
   "cell_type": "code",
   "execution_count": null,
   "metadata": {},
   "outputs": [],
   "source": [
    "#Total Penalty Days\n",
    "\n",
    "gp.quicksum(T[s].x for s in orders)"
   ]
  },
  {
   "cell_type": "code",
   "execution_count": null,
   "metadata": {},
   "outputs": [],
   "source": [
    "#Total xdock waiting\n",
    "\n",
    "gp.quicksum(B[s].x for s in orders)"
   ]
  },
  {
   "cell_type": "code",
   "execution_count": null,
   "metadata": {},
   "outputs": [],
   "source": [
    "#Output DecVar: y(d,k)\n",
    "\n",
    "#hangi günlerde xdocktan araç çıkıyor? hangi araçta çıkıyor?\n",
    "\n",
    "{(key1, key2): val for (key1, key2), val in y.items() if val.x > 0.1}"
   ]
  },
  {
   "cell_type": "code",
   "execution_count": null,
   "metadata": {},
   "outputs": [],
   "source": [
    "#Output DecVar: T(s)\n",
    "\n",
    "#gecikmenin gerçekleştiği orderlar\n",
    "\n",
    "{(key1): val for (key1), val in T.items() if val.x > 0}"
   ]
  },
  {
   "cell_type": "code",
   "execution_count": null,
   "metadata": {},
   "outputs": [],
   "source": [
    "\n",
    "    for w in m.getVarByName(\"w\"):\n",
    "        if w.x > 0 :\n",
    "            print('%s %g' % (w.varName, w.x))"
   ]
  },
  {
   "cell_type": "code",
   "execution_count": null,
   "metadata": {},
   "outputs": [],
   "source": [
    "type(y.varName)"
   ]
  },
  {
   "cell_type": "code",
   "execution_count": null,
   "metadata": {},
   "outputs": [],
   "source": [
    "    qwer=[]\n",
    "    for u in m.getVars():\n",
    "        if u.x > 0 :\n",
    "             qwer.append(u.varName)"
   ]
  }
 ],
 "metadata": {
  "kernelspec": {
   "display_name": "Python 3",
   "language": "python",
   "name": "python3"
  },
  "language_info": {
   "codemirror_mode": {
    "name": "ipython",
    "version": 3
   },
   "file_extension": ".py",
   "mimetype": "text/x-python",
   "name": "python",
   "nbconvert_exporter": "python",
   "pygments_lexer": "ipython3",
   "version": "3.7.4"
  }
 },
 "nbformat": 4,
 "nbformat_minor": 2
}
